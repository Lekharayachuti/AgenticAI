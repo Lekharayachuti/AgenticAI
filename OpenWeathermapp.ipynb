{
  "nbformat": 4,
  "nbformat_minor": 0,
  "metadata": {
    "colab": {
      "provenance": []
    },
    "kernelspec": {
      "name": "python3",
      "display_name": "Python 3"
    },
    "language_info": {
      "name": "python"
    }
  },
  "cells": [
    {
      "cell_type": "code",
      "execution_count": null,
      "metadata": {
        "id": "WYSzpJS-LAUI",
        "colab": {
          "base_uri": "https://localhost:8080/"
        },
        "outputId": "7fca62fd-e4b0-4c52-ada1-cfe652037a02"
      },
      "outputs": [
        {
          "output_type": "stream",
          "name": "stdout",
          "text": [
            "Collecting pyowm\n",
            "  Downloading pyowm-3.3.0-py3-none-any.whl.metadata (6.8 kB)\n",
            "Requirement already satisfied: requests<3,>=2.20.0 in /usr/local/lib/python3.11/dist-packages (from pyowm) (2.32.3)\n",
            "Collecting geojson<3,>=2.3.0 (from pyowm)\n",
            "  Downloading geojson-2.5.0-py2.py3-none-any.whl.metadata (15 kB)\n",
            "Requirement already satisfied: PySocks<2,>=1.7.1 in /usr/local/lib/python3.11/dist-packages (from pyowm) (1.7.1)\n",
            "Requirement already satisfied: charset-normalizer<4,>=2 in /usr/local/lib/python3.11/dist-packages (from requests<3,>=2.20.0->pyowm) (3.4.1)\n",
            "Requirement already satisfied: idna<4,>=2.5 in /usr/local/lib/python3.11/dist-packages (from requests<3,>=2.20.0->pyowm) (3.10)\n",
            "Requirement already satisfied: urllib3<3,>=1.21.1 in /usr/local/lib/python3.11/dist-packages (from requests<3,>=2.20.0->pyowm) (2.3.0)\n",
            "Requirement already satisfied: certifi>=2017.4.17 in /usr/local/lib/python3.11/dist-packages (from requests<3,>=2.20.0->pyowm) (2024.12.14)\n",
            "Downloading pyowm-3.3.0-py3-none-any.whl (4.5 MB)\n",
            "\u001b[2K   \u001b[90m━━━━━━━━━━━━━━━━━━━━━━━━━━━━━━━━━━━━━━━━\u001b[0m \u001b[32m4.5/4.5 MB\u001b[0m \u001b[31m35.1 MB/s\u001b[0m eta \u001b[36m0:00:00\u001b[0m\n",
            "\u001b[?25hDownloading geojson-2.5.0-py2.py3-none-any.whl (14 kB)\n",
            "Installing collected packages: geojson, pyowm\n",
            "Successfully installed geojson-2.5.0 pyowm-3.3.0\n"
          ]
        }
      ],
      "source": [
        "!pip install langchain-community -q\n",
        "!pip install langchain-groq -q\n",
        "!pip install pyowm"
      ]
    },
    {
      "cell_type": "code",
      "source": [
        "from langchain import hub\n",
        "from langchain.agents import AgentExecutor, create_react_agent,load_tools\n",
        "from langchain_groq import ChatGroq"
      ],
      "metadata": {
        "id": "ff9ciV4xLXLR"
      },
      "execution_count": null,
      "outputs": []
    },
    {
      "cell_type": "code",
      "source": [
        "import os"
      ],
      "metadata": {
        "id": "liqrRkQ2LqrV"
      },
      "execution_count": null,
      "outputs": []
    },
    {
      "cell_type": "code",
      "source": [
        "os.environ[\"GROQ_API_KEY\"] = \"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\"\n",
        "os.environ[\"OPENWEATHERMAP_API_KEY\"] = \"aa4444296b2666dd30f42feb3061dda1\""
      ],
      "metadata": {
        "id": "QyiqKcWcLcEG"
      },
      "execution_count": null,
      "outputs": []
    },
    {
      "cell_type": "code",
      "source": [
        "from langchain_groq import ChatGroq"
      ],
      "metadata": {
        "id": "Tu7pU3JCLlPw"
      },
      "execution_count": null,
      "outputs": []
    },
    {
      "cell_type": "code",
      "source": [
        "llm = ChatGroq(\n",
        "    temperature=0.7,\n",
        "    groq_api_key=\"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\",  # Make sure to replace with your actual API key\n",
        "    model_name=\"llama-3.3-70b-versatile\"\n",
        ")"
      ],
      "metadata": {
        "id": "Wykjg3xYLycS"
      },
      "execution_count": null,
      "outputs": []
    },
    {
      "cell_type": "code",
      "source": [
        "prompt = hub.pull(\"hwchase17/react\")\n",
        "print('&**********&')\n",
        "print(prompt)\n",
        "print('&**********&')"
      ],
      "metadata": {
        "colab": {
          "base_uri": "https://localhost:8080/"
        },
        "id": "-dzG0AVoL2G0",
        "outputId": "f1a8e1ef-64e0-4718-8c32-147dfce1d009"
      },
      "execution_count": null,
      "outputs": [
        {
          "output_type": "stream",
          "name": "stderr",
          "text": [
            "/usr/local/lib/python3.11/dist-packages/langsmith/client.py:253: LangSmithMissingAPIKeyWarning: API key must be provided when using hosted LangSmith API\n",
            "  warnings.warn(\n"
          ]
        },
        {
          "output_type": "stream",
          "name": "stdout",
          "text": [
            "&**********&\n",
            "input_variables=['agent_scratchpad', 'input', 'tool_names', 'tools'] input_types={} partial_variables={} metadata={'lc_hub_owner': 'hwchase17', 'lc_hub_repo': 'react', 'lc_hub_commit_hash': 'd15fe3c426f1c4b3f37c9198853e4a86e20c425ca7f4752ec0c9b0e97ca7ea4d'} template='Answer the following questions as best you can. You have access to the following tools:\\n\\n{tools}\\n\\nUse the following format:\\n\\nQuestion: the input question you must answer\\nThought: you should always think about what to do\\nAction: the action to take, should be one of [{tool_names}]\\nAction Input: the input to the action\\nObservation: the result of the action\\n... (this Thought/Action/Action Input/Observation can repeat N times)\\nThought: I now know the final answer\\nFinal Answer: the final answer to the original input question\\n\\nBegin!\\n\\nQuestion: {input}\\nThought:{agent_scratchpad}'\n",
            "&**********&\n"
          ]
        }
      ]
    },
    {
      "cell_type": "code",
      "source": [
        "tools = load_tools([\"openweathermap-api\"], llm)"
      ],
      "metadata": {
        "id": "sqbQQLJ7L4tz"
      },
      "execution_count": null,
      "outputs": []
    },
    {
      "cell_type": "code",
      "source": [
        "agent = create_react_agent(\n",
        "    llm=llm,\n",
        "    tools=tools,\n",
        "    prompt=prompt\n",
        ")"
      ],
      "metadata": {
        "id": "6YlhjYGuL8jB"
      },
      "execution_count": null,
      "outputs": []
    },
    {
      "cell_type": "code",
      "source": [
        "agent_executor = AgentExecutor(agent=agent, tools=tools, verbose=True)"
      ],
      "metadata": {
        "id": "2u-u6sncL_fj"
      },
      "execution_count": null,
      "outputs": []
    },
    {
      "cell_type": "code",
      "source": [
        "respond = agent_executor.invoke({\"input\":\"What is the weather in Kurnool\"},return_intermediate_steps=True)\n",
        "print(respond)"
      ],
      "metadata": {
        "colab": {
          "base_uri": "https://localhost:8080/"
        },
        "id": "ZdXWsAF1MCO2",
        "outputId": "b26d58d3-cd81-4c62-a9c2-c4c439415de2"
      },
      "execution_count": null,
      "outputs": [
        {
          "output_type": "stream",
          "name": "stdout",
          "text": [
            "\n",
            "\n",
            "\u001b[1m> Entering new AgentExecutor chain...\u001b[0m\n",
            "\u001b[32;1m\u001b[1;3mTo find the weather in Kurnool, I need to use a service that can provide current weather information for a specified location. The open_weather_map tool seems perfect for this task as it can fetch the current weather for any location.\n",
            "\n",
            "Action: open_weather_map\n",
            "Action Input: Kurnool\u001b[0m\u001b[36;1m\u001b[1;3mIn Kurnool, the current weather is as follows:\n",
            "Detailed status: broken clouds\n",
            "Wind speed: 3.33 m/s, direction: 137°\n",
            "Humidity: 30%\n",
            "Temperature: \n",
            "  - Current: 28.56°C\n",
            "  - High: 28.56°C\n",
            "  - Low: 28.56°C\n",
            "  - Feels like: 27.52°C\n",
            "Rain: {}\n",
            "Heat index: None\n",
            "Cloud cover: 79%\u001b[0m\u001b[32;1m\u001b[1;3mI now know the final answer\n",
            "\n",
            "Final Answer: The current weather in Kurnool is mostly cloudy with broken clouds, a wind speed of 3.33 m/s, humidity of 30%, and a temperature of 28.56°C, which feels like 27.52°C.\u001b[0m\n",
            "\n",
            "\u001b[1m> Finished chain.\u001b[0m\n",
            "{'input': 'What is the weather in Kurnool', 'output': 'The current weather in Kurnool is mostly cloudy with broken clouds, a wind speed of 3.33 m/s, humidity of 30%, and a temperature of 28.56°C, which feels like 27.52°C.'}\n"
          ]
        }
      ]
    },
    {
      "cell_type": "code",
      "source": [],
      "metadata": {
        "id": "QarMTHWhMGk8"
      },
      "execution_count": null,
      "outputs": []
    }
  ]
}